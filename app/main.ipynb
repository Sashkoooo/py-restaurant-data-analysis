{
 "cells": [
  {
   "cell_type": "code",
   "execution_count": 8,
   "metadata": {
    "collapsed": true,
    "pycharm": {
     "name": "#%%\n"
    }
   },
   "outputs": [],
   "source": [
    "import pandas as pd\n",
    "import numpy as np\n",
    "import sqlite3\n",
    "import csv\n",
    "from pathlib import Path\n"
   ]
  },
  {
   "cell_type": "markdown",
   "metadata": {
    "collapsed": false,
    "pycharm": {
     "name": "#%% md\n"
    }
   },
   "source": [
    "# Task 0\n",
    "Data extraction: get the data from 3 tables & combine it into single `.csv` file.\n",
    "After that read this file using pandas to create Dataframe.\n",
    "So it will be all joined data in 1 dataframe. Quick check - should be 74818 rows in it."
   ]
  },
  {
   "cell_type": "code",
   "execution_count": 34,
   "metadata": {
    "collapsed": false,
    "pycharm": {
     "name": "#%%\n"
    }
   },
   "outputs": [
    {
     "name": "stdout",
     "output_type": "stream",
     "text": [
      "Data has been successfully written to restaurant_data.csv.\n",
      "\n",
      "       order_id           order_date                product  price  quantity\n",
      "0             1  2019-08-03 20:25:00          Plain Papadum   0.80         2\n",
      "1             1  2019-08-03 20:25:00       King Prawn Balti  12.95         1\n",
      "2             1  2019-08-03 20:25:00            Garlic Naan   2.95         1\n",
      "3             1  2019-08-03 20:25:00          Mushroom Rice   3.95         1\n",
      "4             1  2019-08-03 20:25:00    Paneer Tikka Masala   8.95         1\n",
      "...         ...                  ...                    ...    ...       ...\n",
      "74813      3255  2016-05-18 18:53:00    House Red wine 75cl  17.95         2\n",
      "74814     12905  2016-05-14 19:28:00    House Red wine 75cl  17.95         2\n",
      "74815      3272  2016-05-10 13:18:00    House Red wine 75cl  17.95         2\n",
      "74816     11404  2016-04-07 19:04:00  House white wine 75cl  17.95         1\n",
      "74817     11449  2015-10-02 17:29:00    House Red wine 75cl  17.95         1\n",
      "\n",
      "[74818 rows x 5 columns]\n"
     ]
    }
   ],
   "source": [
    "# Connect to the SQLite database\n",
    "base_dir = Path.cwd().parent\n",
    "data_base_file_path = base_dir/\"db.sqlite3\"\n",
    "absolute_data_base_file_path = data_base_file_path.resolve()\n",
    "\n",
    "connection = sqlite3.connect(absolute_data_base_file_path)\n",
    "cursor = connection.cursor()\n",
    "\n",
    "query = '''\n",
    "SELECT \n",
    "    restaurant_order.id,\n",
    "    restaurant_order.datetime,\n",
    "    restaurant_product.name,\n",
    "    restaurant_product.price,\n",
    "    restaurant_orderitem.quantity \n",
    "\n",
    "FROM restaurant_orderitem\n",
    "\n",
    "INNER JOIN restaurant_order \n",
    "ON restaurant_orderitem.order_id = restaurant_order.id\n",
    "\n",
    "INNER JOIN restaurant_product\n",
    "ON restaurant_product.id = restaurant_orderitem.product_id\n",
    "'''\n",
    "\n",
    "# Execute the query and fetch all rows\n",
    "cursor.execute(query)\n",
    "rows = cursor.fetchall()\n",
    "\n",
    "csv_file_name = \"restaurant_data.csv\"\n",
    "csv_file_path = base_dir/csv_file_name\n",
    "absolute_csv_file_path = csv_file_path.resolve()\n",
    "\n",
    "# Write the data to a CSV file\n",
    "with open(absolute_csv_file_path, \"w\", newline=\"\", encoding=\"utf-8\") as file:\n",
    "    writer = csv.writer(file)\n",
    "    writer.writerow([\"order_id\", \"order_date\", \"product\", \"price\", \"quantity\"])\n",
    "    writer.writerows(rows)\n",
    "\n",
    "connection.close()\n",
    "\n",
    "print(f\"Data has been successfully written to {csv_file_name}.\\n\")\n",
    "\n",
    "data = pd.read_csv(absolute_csv_file_path)\n",
    "print(data)\n"
   ]
  },
  {
   "cell_type": "markdown",
   "metadata": {},
   "source": []
  },
  {
   "cell_type": "markdown",
   "metadata": {
    "collapsed": false,
    "pycharm": {
     "name": "#%% md\n"
    }
   },
   "source": [
    "# Task 1\n",
    "Get Top 10 most popular products in restaurant sold by Quantity.\n",
    "Count how many times each product was sold and create a pie chart with percentage of popularity (by quantity) for top 10 of them.\n",
    "\n",
    "Example:\n",
    "\n",
    "![pie chart](../demo/pie.png)"
   ]
  },
  {
   "cell_type": "code",
   "execution_count": null,
   "metadata": {
    "collapsed": false,
    "pycharm": {
     "name": "#%%\n"
    }
   },
   "outputs": [],
   "source": [
    "# write your code here"
   ]
  },
  {
   "cell_type": "markdown",
   "metadata": {
    "collapsed": false,
    "pycharm": {
     "name": "#%% md\n"
    }
   },
   "source": [
    "# Task 2\n",
    "Calculate `Item Price` (Product Price * Quantity) for each Order Item in dataframe.\n",
    "And Make the same Top 10 pie chart, but this time by `Item Price`. So this chart should describe not the most popular products by quantity, but which products (top 10) make the most money for restaurant. It should be also with percentage."
   ]
  },
  {
   "cell_type": "code",
   "execution_count": null,
   "metadata": {
    "collapsed": false,
    "pycharm": {
     "is_executing": true,
     "name": "#%%\n"
    }
   },
   "outputs": [],
   "source": [
    "# write your code here"
   ]
  },
  {
   "cell_type": "markdown",
   "metadata": {
    "collapsed": false,
    "pycharm": {
     "name": "#%% md\n"
    }
   },
   "source": [
    "# Task 3\n",
    "Calculate `Order Hour` based on `Order Datetime`, which will tell about the specific our the order was created (from 0 to 23). Using `Order Hour` create a bar chart, which will tell the total restaurant income based on the hour order was created. So on x-axis - it will be values from 0 to 23 (hours), on y-axis - it will be the total sum of order prices, which were sold on that hour.\n",
    "\n",
    "Example:\n",
    "\n",
    "![bar chart](../demo/bar.png)"
   ]
  },
  {
   "cell_type": "code",
   "execution_count": null,
   "metadata": {
    "collapsed": false,
    "pycharm": {
     "name": "#%%\n"
    }
   },
   "outputs": [],
   "source": [
    "# write your code here"
   ]
  },
  {
   "cell_type": "markdown",
   "metadata": {
    "collapsed": false,
    "pycharm": {
     "name": "#%% md\n"
    }
   },
   "source": [
    "# Task 4\n",
    "Make similar bar chart, but right now with `Order Day Of The Week` (from Monday to Sunday), and also analyze total restaurant income by each day of the week."
   ]
  },
  {
   "cell_type": "code",
   "execution_count": null,
   "metadata": {
    "collapsed": false,
    "pycharm": {
     "name": "#%%\n"
    }
   },
   "outputs": [],
   "source": [
    "# write your code here"
   ]
  }
 ],
 "metadata": {
  "kernelspec": {
   "display_name": "Python 3",
   "language": "python",
   "name": "python3"
  },
  "language_info": {
   "codemirror_mode": {
    "name": "ipython",
    "version": 3
   },
   "file_extension": ".py",
   "mimetype": "text/x-python",
   "name": "python",
   "nbconvert_exporter": "python",
   "pygments_lexer": "ipython3",
   "version": "3.11.9"
  }
 },
 "nbformat": 4,
 "nbformat_minor": 0
}
