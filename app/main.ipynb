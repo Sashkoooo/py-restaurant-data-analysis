data["item_price"] = data["price"] * data["quantity"]
sales = data.groupby("product")["item_price"].sum().reset_index()
sales = sales.sort_values(by="item_price", ascending=False)
top_10_sales = sales.head(10)

plt.figure(figsize=(8, 8))
plt.pie(
    top_10_sales["item_price"], 
    labels=top_10_sales["product"], 
    autopct=lambda pct: autopct_format(pct, top_10_sales["item_price"]), 
    startangle=90, 
    colors=plt.cm.Paired.colors, 
    wedgeprops={"edgecolor": "black"},
)

plt.axis("equal")
plt.title("Top 10 Products by Sales")
plt.show()
